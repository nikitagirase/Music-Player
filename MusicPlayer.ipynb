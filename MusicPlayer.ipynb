{
 "cells": [
  {
   "cell_type": "code",
   "execution_count": 2,
   "metadata": {},
   "outputs": [],
   "source": [
    "from pygame import mixer\n",
    "from tkinter import *\n",
    "\n",
    "root = Tk()\n",
    "root.geometry(\"600x300\")\n",
    "\n",
    "mixer.init()\n",
    "mixer.music.load(\"Barish.mp3\")\n",
    "\n",
    "\n",
    "def pause():\n",
    "    mixer.music.pause()\n",
    "\n",
    "\n",
    "def play():\n",
    "    mixer.music.play()\n",
    "\n",
    "\n",
    "def resume():\n",
    "    mixer.music.unpause()\n",
    "\n",
    "\n",
    "Label(root, text=\"Welcome to music player\", font=\"lucidia 30 bold\").pack()\n",
    "Button(text=\"Play\", command=play).place(x=200, y=100)\n",
    "Button(text=\"Pause\", command=pause).place(x=250, y=100)\n",
    "Button(text=\"Resume\", command=resume).place(x=310, y=100)\n",
    "Button(text=\"Quit\", command=quit).place(x=380, y=100)\n",
    "\n",
    "root.mainloop()"
   ]
  }
 ],
 "metadata": {
  "kernelspec": {
   "display_name": "Python 3",
   "language": "python",
   "name": "python3"
  },
  "language_info": {
   "codemirror_mode": {
    "name": "ipython",
    "version": 3
   },
   "file_extension": ".py",
   "mimetype": "text/x-python",
   "name": "python",
   "nbconvert_exporter": "python",
   "pygments_lexer": "ipython3",
   "version": "3.8.5"
  }
 },
 "nbformat": 4,
 "nbformat_minor": 4
}
